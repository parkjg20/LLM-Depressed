{
 "cells": [
  {
   "cell_type": "code",
   "execution_count": 172,
   "id": "365a3b94-b440-4d11-bbc2-b5bcd1943bad",
   "metadata": {
    "ExecuteTime": {
     "end_time": "2024-12-24T02:40:04.009867Z",
     "start_time": "2024-12-24T02:40:02.836571Z"
    },
    "tags": []
   },
   "outputs": [
    {
     "name": "stdout",
     "output_type": "stream",
     "text": [
      "                                             profile  \\\n",
      "0  {'persona-id': 'Pro_05349', 'persona': {'perso...   \n",
      "1  {'persona-id': 'Pro_05349', 'persona': {'perso...   \n",
      "2  {'persona-id': 'Pro_05349', 'persona': {'perso...   \n",
      "3  {'persona-id': 'Pro_05349', 'persona': {'perso...   \n",
      "4  {'persona-id': 'Pro_05349', 'persona': {'perso...   \n",
      "5  {'persona-id': 'Pro_05349', 'persona': {'perso...   \n",
      "6  {'persona-id': 'Pro_05349', 'persona': {'perso...   \n",
      "7  {'persona-id': 'Pro_05397', 'persona': {'perso...   \n",
      "8  {'persona-id': 'Pro_05368', 'persona': {'perso...   \n",
      "9  {'persona-id': 'Pro_05397', 'persona': {'perso...   \n",
      "\n",
      "                                                talk  \n",
      "0  {'id': {'profile-id': 'Pro_05349', 'talk-id': ...  \n",
      "1  {'id': {'profile-id': 'Pro_05349', 'talk-id': ...  \n",
      "2  {'id': {'profile-id': 'Pro_05349', 'talk-id': ...  \n",
      "3  {'id': {'profile-id': 'Pro_05349', 'talk-id': ...  \n",
      "4  {'id': {'profile-id': 'Pro_05349', 'talk-id': ...  \n",
      "5  {'id': {'profile-id': 'Pro_05349', 'talk-id': ...  \n",
      "6  {'id': {'profile-id': 'Pro_05349', 'talk-id': ...  \n",
      "7  {'id': {'profile-id': 'Pro_05397', 'talk-id': ...  \n",
      "8  {'id': {'profile-id': 'Pro_05368', 'talk-id': ...  \n",
      "9  {'id': {'profile-id': 'Pro_05397', 'talk-id': ...  \n"
     ]
    }
   ],
   "source": [
    "import json\n",
    "import pandas as pd\n",
    "\n",
    "dataset = pd.read_json('./dataset.json') ## pd.read_json 이용\n",
    "print(dataset[:10])\n"
   ]
  },
  {
   "cell_type": "code",
   "execution_count": 173,
   "id": "35971be519da3e39",
   "metadata": {
    "ExecuteTime": {
     "end_time": "2024-12-24T04:09:26.492497Z",
     "start_time": "2024-12-24T04:09:26.488134Z"
    },
    "collapsed": false,
    "jupyter": {
     "outputs_hidden": false
    }
   },
   "outputs": [
    {
     "name": "stdout",
     "output_type": "stream",
     "text": [
      "True\n"
     ]
    }
   ],
   "source": [
    "import torch\n",
    "print(torch.cuda.is_available())\n",
    "# device = torch.device(\"cuda\" if torch.cuda.is_available() else \"cpu\") "
   ]
  },
  {
   "cell_type": "code",
   "execution_count": 174,
   "id": "7d041d84-1491-424f-98cd-9e50805797cd",
   "metadata": {
    "ExecuteTime": {
     "end_time": "2024-12-24T02:40:04.018812Z",
     "start_time": "2024-12-24T02:40:04.010873Z"
    },
    "tags": []
   },
   "outputs": [],
   "source": [
    "# 코드 -> 텍스트 매핑 생성\n",
    "map_age_band = {'A01': '청소년', 'A02': '청년', 'A03': '중년', 'A04': '노년'}\n",
    "map_gender = {'G01': '남성', 'G02': '여성'}\n",
    "\n",
    "# 상황 매핑\n",
    "map_situation = {\n",
    "    \"S01\": \"가족관계\",\n",
    "    \"S02\": \"학업 및 진로\",\n",
    "    \"S03\": \"학교폭력/따돌림\",\n",
    "    \"S04\": \"대인관계\",\n",
    "    \"S05\": \"연애,결혼,출산\",\n",
    "    \"S06\": \"진로,취업,직장\",\n",
    "    \"S07\": \"대인관계(부부, 자녀)\",\n",
    "    \"S08\": \"재정,은퇴,노후준비\",\n",
    "    \"S09\": \"건강\",\n",
    "    \"S10\": \"직장, 업무 스트레스\",\n",
    "    \"S11\": \"건강,죽음\",\n",
    "    \"S12\": \"대인관계(노년)\",\n",
    "    \"S13\": \"재정\"\n",
    "}\n",
    "\n",
    "# 질병 매핑\n",
    "map_disease = {\n",
    "    \"D01\": \"만성질환 유\",\n",
    "    \"D02\": \"만성질환 무\"\n",
    "}\n",
    "\n",
    "# 감정 매핑\n",
    "map_emotion = {\n",
    "    \"E10\": \"분노\",\n",
    "    \"E20\": \"슬픔\",\n",
    "    \"E30\": \"불안\",\n",
    "    \"E40\": \"상처\",\n",
    "    \"E50\": \"당황\",\n",
    "    \"E60\": \"기쁨\",\n",
    "    # \"E10\": \"분노\",\n",
    "    # \"E11\": \"툴툴대는\",\n",
    "    # \"E12\": \"좌절한\",\n",
    "    # \"E13\": \"짜증내는\",\n",
    "    # \"E14\": \"방어적인\",\n",
    "    # \"E15\": \"악의적인\",\n",
    "    # \"E16\": \"안달하는\",\n",
    "    # \"E17\": \"구역질 나는\",\n",
    "    # \"E18\": \"노여워하는\",\n",
    "    # \"E19\": \"성가신\",\n",
    "    # \"E20\": \"슬픔\",\n",
    "    # \"E21\": \"실망한\",\n",
    "    # \"E22\": \"비통한\",\n",
    "    # \"E23\": \"후회되는\",\n",
    "    # \"E24\": \"우울한\",\n",
    "    # \"E25\": \"마비된\",\n",
    "    # \"E26\": \"염세적인\",\n",
    "    # \"E27\": \"눈물이 나는\",\n",
    "    # \"E28\": \"낙담한\",\n",
    "    # \"E29\": \"환멸을 느끼는\",\n",
    "    # \"E30\": \"불안\",\n",
    "    # \"E31\": \"두려운\",\n",
    "    # \"E32\": \"스트레스 받는\",\n",
    "    # \"E33\": \"취약한\",\n",
    "    # \"E34\": \"혼란스러운\",\n",
    "    # \"E35\": \"당혹스러운\",\n",
    "    # \"E36\": \"회의적인\",\n",
    "    # \"E37\": \"걱정스러운\",\n",
    "    # \"E38\": \"조심스러운\",\n",
    "    # \"E39\": \"초조한\",\n",
    "    # \"E40\": \"상처\",\n",
    "    # \"E41\": \"질투하는\",\n",
    "    # \"E42\": \"배신당한\",\n",
    "    # \"E43\": \"고립된\",\n",
    "    # \"E44\": \"충격 받은\",\n",
    "    # \"E45\": \"가난한, 불우한\",\n",
    "    # \"E46\": \"희생된\",\n",
    "    # \"E47\": \"억울한\",\n",
    "    # \"E48\": \"괴로워하는\",\n",
    "    # \"E49\": \"버려진\",\n",
    "    # \"E50\": \"당황\",\n",
    "    # \"E51\": \"고립된(당황한)\",\n",
    "    # \"E52\": \"남의 시선을 의식하는\",\n",
    "    # \"E53\": \"외로운\",\n",
    "    # \"E54\": \"열등감\",\n",
    "    # \"E55\": \"죄책감의\",\n",
    "    # \"E56\": \"부끄러운\",\n",
    "    # \"E57\": \"혐오스러운\",\n",
    "    # \"E58\": \"한심한\",\n",
    "    # \"E59\": \"혼란스러운(당황한)\",\n",
    "    # \"E60\": \"기쁨\",\n",
    "    # \"E61\": \"감사하는\",\n",
    "    # \"E62\": \"신뢰하는\",\n",
    "    # \"E63\": \"편안한\",\n",
    "    # \"E64\": \"만족스러운\",\n",
    "    # \"E65\": \"흥분\",\n",
    "    # \"E66\": \"느긋\",\n",
    "    # \"E67\": \"안도\",\n",
    "    # \"E68\": \"신이 난\",\n",
    "    # \"E69\": \"자신하는\"\n",
    "}\n",
    "\n",
    "map_code = {\n",
    "    'age_band': map_age_band,\n",
    "    'gender': map_gender,\n",
    "    'situation': map_situation,\n",
    "    'disease': map_disease,\n",
    "    'emotion': map_emotion\n",
    "}\n",
    "\n",
    "def decode(code_type, code):\n",
    "     return map_code[code_type][code]\n",
    "\n",
    "    "
   ]
  },
  {
   "cell_type": "code",
   "execution_count": 175,
   "id": "c08b3697-4dfb-4372-8736-f2becb28fab6",
   "metadata": {
    "ExecuteTime": {
     "end_time": "2024-12-24T02:40:04.513686Z",
     "start_time": "2024-12-24T02:40:04.474505Z"
    },
    "tags": []
   },
   "outputs": [],
   "source": [
    "########################################\n",
    "# 데이터 전처리\n",
    "########################################\n",
    "# 연령(profile.persona.human[0]) - [A01: 청소년, A02: 청년, A03: 중년, A04: 노년] \n",
    "# 성별(profile.persona.human[1]) - [G01: 남성, G02: 여성]\n",
    "\n",
    "# 'human' 리스트에 'A01'이 포함된 레코드 필터링\n",
    "filtered_dataset = dataset[\n",
    "    dataset['profile'].apply(lambda x: 'A04' in x['persona']['human'])\n",
    "]\n",
    "\n",
    "flattened_profile = pd.json_normalize(filtered_dataset['profile'])\n",
    "flattened_talk = pd.json_normalize(filtered_dataset['talk'])\n",
    "\n",
    "combine = flattened_profile.join(flattened_talk)\n",
    "df = pd.DataFrame(combine)\n",
    "\n",
    "# 감정 레이블 간소화\n",
    "df[\"emotion_type\"] = df[\"emotion.type\"].str[:2] + \"0\"\n",
    "df['emotion_label'] = df['emotion_type'].astype('category').cat.codes\n",
    "label_mapping = dict(enumerate(df['emotion_type'].astype('category').cat.categories))\n"
   ]
  },
  {
   "cell_type": "code",
   "execution_count": 176,
   "id": "72e4c870-9baa-40b1-be66-2393609da9b3",
   "metadata": {
    "ExecuteTime": {
     "end_time": "2024-12-24T02:40:05.437400Z",
     "start_time": "2024-12-24T02:40:05.194588Z"
    },
    "tags": []
   },
   "outputs": [
    {
     "name": "stdout",
     "output_type": "stream",
     "text": [
      "14587\n",
      "emotion_label\n",
      "3    2798\n",
      "0    2715\n",
      "4    2681\n",
      "1    2540\n",
      "2    2484\n",
      "5    1369\n",
      "Name: count, dtype: int64\n",
      "                                            content.HS01  \\\n",
      "10652                            회사를 그만둔지 오래되니 점점 대화가 안돼   \n",
      "10486                                 노년기 이혼한 친구가 다녀갔어.　   \n",
      "7394            오늘 꿈자리가 사납더니 기분도 좋지 않아. 꼭 무슨 일이 일어날것 같아.   \n",
      "1039                            부모님이 살아계신 친구들을 보면 질투가 나.   \n",
      "11309  아들이 조금만 과하게 이야기하면 무시당하는 것 같고 내가 잘못 키웠나 하는 생각이 들어.   \n",
      "5380                    남편이 나만 두고 먼저 세상을 떠나서 너무 외롭고 우울해.   \n",
      "8427                           손주를 보다 손을 데인 친구의 전화를 받았어.   \n",
      "1636                    내가 돈이 없어서 자식들에게 짐이 되는 것이 너무 우울해.   \n",
      "4730                      며느리가 자기 전에 항상 관절염에 좋은 온찜질을 해줘.   \n",
      "7551                        친구가 요즘 갑자기 날 멀리하는데 너무 혼란스러워.   \n",
      "\n",
      "                                       content.HS02  \n",
      "10652                      남편과도 그렇고 전 직장 동료를 만나도 그래  \n",
      "10486       그렇게 바라던 이혼이었는데 경제적 뒷받침이 되지 않아 힘이 드는가봐.　  \n",
      "7394                 오늘은 걱정되서 약속을 취소하고 집안에 있을 생각이야.  \n",
      "1039                    우리 부모님은 돌아가셨거든. 보고 싶다. 슬프네.  \n",
      "11309  지금까지 다른 집 자식들보다는 착하게 키웠다고 자부하며 살았는데 생각이 변하네.  \n",
      "5380                내가 남편 없이 혼자 살 수 있을지 생각하면 너무 슬퍼.  \n",
      "8427    덴 손도 아프고 실수했다는 사실에 마음도 아프고 이리저리 속이 상한 모양이야.  \n",
      "1636    이번에도 병원비 낼 돈이 없어서 자식들이 대신 내줬어. 항상 미안한 마음이야.  \n",
      "4730                            며느리한테 고마움을 표현하고 싶어.  \n",
      "7551              정말 오래된 친구인데 갑자기 저러니까 왜 그런지를 모르겠어.   0        E20\n",
      "1        E20\n",
      "2        E20\n",
      "3        E20\n",
      "4        E20\n",
      "        ... \n",
      "14582    E10\n",
      "14583    E30\n",
      "14584    E40\n",
      "14585    E30\n",
      "14586    E40\n",
      "Name: emotion_type, Length: 14587, dtype: object\n"
     ]
    }
   ],
   "source": [
    "# 청소년 데이터 셋 크기 확인\n",
    "print(len(filtered_dataset))\n",
    "\n",
    "# 감정 분포 확인\n",
    "print(df['emotion_label'].value_counts())  # 클래스 분포 확인['content.HS01', 'content.HS02']]\n",
    "print(df[['content.HS01', 'content.HS02']].sample(10), df['emotion_type'])"
   ]
  },
  {
   "cell_type": "code",
   "execution_count": 186,
   "id": "35666d94-bdcf-48a4-9e01-4f62ad3dfcd0",
   "metadata": {
    "ExecuteTime": {
     "end_time": "2024-12-24T02:48:52.481600Z",
     "start_time": "2024-12-24T02:48:52.475837Z"
    },
    "tags": []
   },
   "outputs": [
    {
     "name": "stderr",
     "output_type": "stream",
     "text": [
      "Some weights of RobertaForSequenceClassification were not initialized from the model checkpoint at klue/roberta-base and are newly initialized: ['classifier.dense.bias', 'classifier.dense.weight', 'classifier.out_proj.bias', 'classifier.out_proj.weight']\n",
      "You should probably TRAIN this model on a down-stream task to be able to use it for predictions and inference.\n"
     ]
    }
   ],
   "source": [
    "import torch\n",
    "from torch.utils.data import Dataset, DataLoader\n",
    "from transformers import BertTokenizer, BertForSequenceClassification\n",
    "import pandas as pd\n",
    "from sklearn.model_selection import train_test_split\n",
    "from sklearn.preprocessing import LabelEncoder\n",
    "from sklearn.metrics import classification_report\n",
    "\n",
    "# 1. 데이터 로드 및 전처리\n",
    "class EmotionDataset(Dataset):\n",
    "    def __init__(self, data, tokenizer, max_len):\n",
    "        self.data = data\n",
    "        self.tokenizer = tokenizer\n",
    "        self.max_len = max_len\n",
    "\n",
    "    def __len__(self):\n",
    "        return len(self.data)\n",
    "\n",
    "    def __getitem__(self, index):\n",
    "        row = self.data.iloc[index]\n",
    "        text = \" \".join([str(row[col]) for col in ['content.HS01', 'content.HS02'] if pd.notna(row[col])])\n",
    "        label = row['emotion_label']\n",
    "\n",
    "        encoding = self.tokenizer(\n",
    "            text,\n",
    "            add_special_tokens=True,\n",
    "            max_length=self.max_len,\n",
    "            padding='max_length',\n",
    "            truncation=True,\n",
    "            return_tensors=\"pt\"\n",
    "        )\n",
    "\n",
    "        return {\n",
    "            'input_ids': encoding['input_ids'].squeeze(0),\n",
    "            'attention_mask': encoding['attention_mask'].squeeze(0),\n",
    "            'label': torch.tensor(label, dtype=torch.long)\n",
    "        }\n",
    "\n",
    "# 2. 모델 및 토크나이저 로드\n",
    "from transformers import AutoTokenizer, RobertaForSequenceClassification\n",
    "\n",
    "MODEL_NAME = \"klue/roberta-base\"\n",
    "tokenizer = AutoTokenizer.from_pretrained(MODEL_NAME, use_fast=True)\n",
    "\n",
    "data_train, data_val = train_test_split(df, test_size=0.2, random_state=42)\n",
    "\n",
    "# 데이터셋 생성\n",
    "MAX_LEN = 128\n",
    "train_dataset = EmotionDataset(data_train, tokenizer, MAX_LEN)\n",
    "val_dataset = EmotionDataset(data_val, tokenizer, MAX_LEN)\n",
    "\n",
    "train_loader = DataLoader(train_dataset, batch_size=32, shuffle=True)\n",
    "val_loader = DataLoader(val_dataset, batch_size=32)\n",
    "\n",
    "# 3. 모델 초기화\n",
    "model = RobertaForSequenceClassification.from_pretrained(\n",
    "    MODEL_NAME,\n",
    "    num_labels=df['emotion_label'].nunique()\n",
    ")\n",
    "device = torch.device(\"cuda\" if torch.cuda.is_available() else \"cpu\")\n",
    "model.to(device)\n",
    "\n",
    "# 4. 손실 함수 및 옵티마이저 설정\n",
    "optimizer = torch.optim.AdamW(model.parameters(), lr=2e-5)\n",
    "\n",
    "from sklearn.utils.class_weight import compute_class_weight\n",
    "\n",
    "class_weights = compute_class_weight(\n",
    "    'balanced', \n",
    "    classes=np.unique(df['emotion_label']), \n",
    "    y=df['emotion_label']\n",
    ")\n",
    "weights = torch.tensor(class_weights, dtype=torch.float).to(device)\n",
    "criterion = torch.nn.CrossEntropyLoss(weight=weights)\n"
   ]
  },
  {
   "cell_type": "code",
   "execution_count": 187,
   "id": "6a0dfa6c-6c38-45e4-bb13-258945a334e2",
   "metadata": {},
   "outputs": [
    {
     "name": "stdout",
     "output_type": "stream",
     "text": [
      "Original Text: 그동안 담배를 너무 많이 피웠나 봐. 이제 와서 내가 모은 돈을 보니 너무 후회가 돼. 담배 살 돈을 아꼈다면 나는 지금 얼마를 더 모았을까? 그런 생각이 들어.\n",
      "Tokenized IDs: ['input_ids']\n",
      "Attention Mask Utilization: 1.0\n"
     ]
    }
   ],
   "source": [
    "import numpy as np\n",
    "sample_text = f\"\"\"{df['content.HS01'][0]} {df['content.HS02'][0]}\"\"\"\n",
    "print(\"Original Text:\", sample_text)\n",
    "\n",
    "sample_data = tokenizer(sample_text)\n",
    "print(\"Tokenized IDs:\", ['input_ids'])\n",
    "\n",
    "attention_ratio = sum(np.array(sample_data['attention_mask'])) / len(sample_data['attention_mask'])\n",
    "print(\"Attention Mask Utilization:\", attention_ratio)"
   ]
  },
  {
   "cell_type": "code",
   "execution_count": 188,
   "id": "8e1c9078-9330-4486-b305-b1d4bd54bd36",
   "metadata": {
    "ExecuteTime": {
     "end_time": "2024-12-24T02:56:11.411428Z",
     "start_time": "2024-12-24T02:56:11.406521Z"
    },
    "tags": []
   },
   "outputs": [],
   "source": [
    "# 5. 학습 루프\n",
    "from transformers import get_scheduler\n",
    "\n",
    "num_epochs = 3\n",
    "num_training_steps = len(train_loader) * num_epochs\n",
    "lr_scheduler = get_scheduler(\n",
    "    \"linear\", optimizer=optimizer, num_warmup_steps=0, num_training_steps=num_training_steps\n",
    ")\n",
    "\n",
    "def train_epoch(model, data_loader, optimizer, criterion, device):\n",
    "    model.train()\n",
    "    total_loss = 0\n",
    "    for batch in data_loader:\n",
    "        optimizer.zero_grad()\n",
    "        input_ids = batch['input_ids'].to(device)\n",
    "        attention_mask = batch['attention_mask'].to(device)\n",
    "        labels = batch['label'].to(device)\n",
    "\n",
    "        outputs = model(input_ids=input_ids, attention_mask=attention_mask, labels=labels)\n",
    "        loss = outputs.loss\n",
    "        loss.backward()\n",
    "        optimizer.step()\n",
    "\n",
    "        if lr_scheduler:\n",
    "            lr_scheduler.step()\n",
    "\n",
    "        total_loss += loss.item()\n",
    "\n",
    "    return total_loss / len(data_loader)\n",
    "\n",
    "def eval_model(model, data_loader, criterion, device):\n",
    "    model.eval()\n",
    "    total_loss = 0\n",
    "    predictions = []\n",
    "    true_labels = []\n",
    "\n",
    "    with torch.no_grad():\n",
    "        for batch in data_loader:\n",
    "            input_ids = batch['input_ids'].to(device)\n",
    "            attention_mask = batch['attention_mask'].to(device)\n",
    "            labels = batch['label'].to(device)\n",
    "\n",
    "            outputs = model(input_ids=input_ids, attention_mask=attention_mask, labels=labels)\n",
    "            loss = outputs.loss\n",
    "            total_loss += loss.item()\n",
    "\n",
    "            preds = torch.argmax(outputs.logits, dim=1)\n",
    "            predictions.extend(preds.cpu().numpy())\n",
    "            true_labels.extend(labels.cpu().numpy())\n",
    "\n",
    "    return total_loss / len(data_loader), classification_report(true_labels, predictions)\n"
   ]
  },
  {
   "cell_type": "code",
   "execution_count": 189,
   "id": "230da2d5-9aac-421b-90b4-85c67b24e1c1",
   "metadata": {
    "ExecuteTime": {
     "end_time": "2024-12-24T02:57:19.079863Z",
     "start_time": "2024-12-24T02:56:18.280353Z"
    },
    "tags": []
   },
   "outputs": [
    {
     "name": "stdout",
     "output_type": "stream",
     "text": [
      "Epoch 1/3\n",
      "Train Loss: 1.2731\n",
      "Validation Loss: 1.1351\n",
      "              precision    recall  f1-score   support\n",
      "\n",
      "           0       0.59      0.51      0.54       521\n",
      "           1       0.74      0.46      0.57       531\n",
      "           2       0.64      0.57      0.60       516\n",
      "           3       0.47      0.56      0.51       552\n",
      "           4       0.51      0.67      0.58       549\n",
      "           5       0.78      0.94      0.85       249\n",
      "\n",
      "    accuracy                           0.59      2918\n",
      "   macro avg       0.62      0.62      0.61      2918\n",
      "weighted avg       0.60      0.59      0.58      2918\n",
      "\n",
      "Epoch 2/3\n",
      "Train Loss: 0.9893\n",
      "Validation Loss: 1.0989\n",
      "              precision    recall  f1-score   support\n",
      "\n",
      "           0       0.56      0.59      0.57       521\n",
      "           1       0.63      0.57      0.60       531\n",
      "           2       0.63      0.60      0.61       516\n",
      "           3       0.47      0.60      0.53       552\n",
      "           4       0.66      0.53      0.59       549\n",
      "           5       0.87      0.92      0.89       249\n",
      "\n",
      "    accuracy                           0.60      2918\n",
      "   macro avg       0.64      0.63      0.63      2918\n",
      "weighted avg       0.61      0.60      0.61      2918\n",
      "\n",
      "Epoch 3/3\n",
      "Train Loss: 0.8407\n",
      "Validation Loss: 1.1025\n",
      "              precision    recall  f1-score   support\n",
      "\n",
      "           0       0.59      0.58      0.58       521\n",
      "           1       0.61      0.60      0.60       531\n",
      "           2       0.63      0.58      0.61       516\n",
      "           3       0.53      0.55      0.54       552\n",
      "           4       0.58      0.61      0.60       549\n",
      "           5       0.86      0.92      0.89       249\n",
      "\n",
      "    accuracy                           0.61      2918\n",
      "   macro avg       0.63      0.64      0.64      2918\n",
      "weighted avg       0.61      0.61      0.61      2918\n",
      "\n"
     ]
    }
   ],
   "source": [
    "train_losses = []\n",
    "val_losses = []\n",
    "\n",
    "# 6. 학습 및 평가 실행\n",
    "EPOCHS = 3\n",
    "for epoch in range(EPOCHS):\n",
    "    print(f\"Epoch {epoch + 1}/{EPOCHS}\")\n",
    "    train_loss = train_epoch(model, train_loader, optimizer, criterion, device)\n",
    "    val_loss, val_report = eval_model(model, val_loader, criterion, device)\n",
    "\n",
    "    train_losses.append(train_loss)\n",
    "    val_losses.append(val_loss)\n",
    "\n",
    "    print(f\"Train Loss: {train_loss:.4f}\")\n",
    "    print(f\"Validation Loss: {val_loss:.4f}\")\n",
    "    print(val_report)\n",
    "\n"
   ]
  },
  {
   "cell_type": "code",
   "execution_count": 190,
   "id": "f9b136ce-a53f-4492-94cf-1ae8d2d2c9d5",
   "metadata": {},
   "outputs": [
    {
     "data": {
      "image/png": "[encoded data removed]",
      "text/plain": [
       "<Figure size 640x480 with 1 Axes>"
      ]
     },
     "metadata": {},
     "output_type": "display_data"
    }
   ],
   "source": [
    "import matplotlib.pyplot as plt\n",
    "\n",
    "plt.plot(train_losses, label='Train Loss')\n",
    "plt.plot(val_losses, label='Validation Loss')\n",
    "plt.legend()\n",
    "plt.show()"
   ]
  },
  {
   "cell_type": "code",
   "execution_count": 191,
   "id": "0cd15c62-d31f-476f-8305-834b7f7a4769",
   "metadata": {
    "tags": []
   },
   "outputs": [],
   "source": [
    "\n",
    "# 문장 예측 함수 및 레이블 디코딩 추가\n",
    "def predict_emotion(model, tokenizer, text, label_mapping, max_len=128):\n",
    "    model.eval()\n",
    "    inputs = tokenizer(\n",
    "        text,\n",
    "        add_special_tokens=True,\n",
    "        max_length=max_len,\n",
    "        padding='max_length',\n",
    "        truncation=True,\n",
    "        return_tensors=\"pt\"\n",
    "    )\n",
    "    input_ids = inputs['input_ids'].to(device)\n",
    "    attention_mask = inputs['attention_mask'].to(device)\n",
    "\n",
    "    with torch.no_grad():\n",
    "        outputs = model(input_ids=input_ids, attention_mask=attention_mask)\n",
    "        logits = outputs.logits\n",
    "        print(outputs, logits, torch.argmax(logits, dim=1).cpu().item())\n",
    "        predicted_label = torch.argmax(logits, dim=1).cpu().item()\n",
    "\n",
    "    decoded_label = label_mapping[predicted_label]\n",
    "    return decoded_label\n",
    "\n"
   ]
  },
  {
   "cell_type": "code",
   "execution_count": 205,
   "id": "11f367f7-b8e2-42b6-99a2-8ecbe443636d",
   "metadata": {
    "tags": []
   },
   "outputs": [
    {
     "name": "stdout",
     "output_type": "stream",
     "text": [
      "SequenceClassifierOutput(loss=None, logits=tensor([[ 1.8252,  0.6553, -0.7776,  0.6031,  0.7050, -3.0855]],\n",
      "       device='cuda:0'), hidden_states=None, attentions=None) tensor([[ 1.8252,  0.6553, -0.7776,  0.6031,  0.7050, -3.0855]],\n",
      "       device='cuda:0') 0\n",
      "{0: 'E10', 1: 'E20', 2: 'E30', 3: 'E40', 4: 'E50', 5: 'E60'}\n",
      "Input: 하늘에서 내리는 눈은 마치 솜사탕처럼 쓰레기 같아 보인다.\n",
      "Predicted Emotion: 분노\n"
     ]
    }
   ],
   "source": [
    "\n",
    "# 예제 사용\n",
    "example_text = \"하늘에서 내리는 눈은 마치 솜사탕처럼 쓰레기 같아 보인다.\"\n",
    "result = predict_emotion(model, tokenizer, example_text, label_mapping)\n",
    "\n",
    "print(label_mapping)\n",
    "print(f\"Input: {example_text}\\nPredicted Emotion: { decode('emotion', result)}\")\n",
    "\n"
   ]
  },
  {
   "cell_type": "code",
   "execution_count": null,
   "id": "ccdcb43b-7586-45ca-a113-87fc8ff00d29",
   "metadata": {},
   "outputs": [],
   "source": [
    "# 7. 모델 저장\n",
    "torch.save(model.state_dict(), 'roberta_emotion_model.pth')\n",
    "\n",
    "\n"
   ]
  }
 ],
 "metadata": {
  "kernelspec": {
   "display_name": "Python 3 (ipykernel)",
   "language": "python",
   "name": "python3"
  },
  "language_info": {
   "codemirror_mode": {
    "name": "ipython",
    "version": 3
   },
   "file_extension": ".py",
   "mimetype": "text/x-python",
   "name": "python",
   "nbconvert_exporter": "python",
   "pygments_lexer": "ipython3",
   "version": "3.10.13"
  },
  "toc-autonumbering": false
 },
 "nbformat": 4,
 "nbformat_minor": 5
}
